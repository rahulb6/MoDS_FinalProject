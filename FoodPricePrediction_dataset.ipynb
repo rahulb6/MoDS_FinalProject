{
  "cells": [
    {
      "cell_type": "code",
      "execution_count": 1,
      "metadata": {
        "id": "0RzQGHbBkhG1"
      },
      "outputs": [],
      "source": [
        "import pandas as pd\n",
        "import numpy as np\n",
        "\n",
        "# Set number of rows\n",
        "num_rows = 1000\n",
        "\n",
        "# Generate synthetic data\n",
        "np.random.seed(42)\n",
        "years = np.random.choice(range(2010, 2024), num_rows)\n",
        "months = np.random.choice(range(1, 13), num_rows)\n",
        "days = np.random.choice(range(1, 29), num_rows)  # To avoid issues with February\n",
        "seasons = np.random.choice([\"Winter\", \"Spring\", \"Summer\", \"Autumn\"], num_rows)\n",
        "inflation_rate = np.random.uniform(1, 11, num_rows)  # Inflation in percentage\n",
        "exchange_rate = np.random.uniform(0.1, 1, num_rows)  # USD to local currency exchange rate\n",
        "gdp_growth = np.random.uniform(-2, 6, num_rows)  # GDP growth rate percentage\n",
        "crop_yield = np.random.uniform(2, 10, num_rows)  # Crop yield in tons per hectare\n",
        "fertilizer_price = np.random.uniform(20, 100, num_rows)  # USD per kg\n",
        "water_availability = np.random.uniform(50, 100, num_rows)  # Water availability index\n",
        "temperature = np.random.uniform(-5, 40, num_rows)  # Temperature in Celsius\n",
        "rainfall = np.random.uniform(0, 300, num_rows)  # Rainfall in mm\n",
        "humidity = np.random.uniform(20, 90, num_rows)  # Humidity percentage\n",
        "transport_cost = np.random.uniform(50, 500, num_rows)  # USD per ton\n",
        "demand_index = np.random.uniform(0.5, 1.5, num_rows)  # Demand multiplier\n",
        "previous_price = np.random.uniform(1, 10, num_rows)  # Previous food price in USD per kg\n",
        "food_price = previous_price * np.random.uniform(0.9, 1.1, num_rows)  # Simulating fluctuation\n",
        "\n",
        "# Create DataFrame\n",
        "df = pd.DataFrame({\n",
        "    \"Year\": years,\n",
        "    \"Month\": months,\n",
        "    \"Day\": days,\n",
        "    \"Season\": seasons,\n",
        "    \"Inflation_Rate\": inflation_rate,\n",
        "    \"Exchange_Rate\": exchange_rate,\n",
        "    \"GDP_Growth\": gdp_growth,\n",
        "    \"Crop_Yield\": crop_yield,\n",
        "    \"Fertilizer_Price\": fertilizer_price,\n",
        "    \"Water_Availability\": water_availability,\n",
        "    \"Temperature\": temperature,\n",
        "    \"Rainfall\": rainfall,\n",
        "    \"Humidity\": humidity,\n",
        "    \"Transport_Cost\": transport_cost,\n",
        "    \"Demand_Index\": demand_index,\n",
        "    \"Previous_Price\": previous_price,\n",
        "    \"Food_Price\": food_price\n",
        "})\n",
        "\n",
        "# Save the dataset\n",
        "file_path = r\"/Users/rahulbalasubramani/Downloads/food_price_prediction_dataset.csv\"\n",
        "df.to_csv(file_path, index=False)\n",
        "\n",
        "# Display dataset to user\n",
        "# import ace_tools as tools tools.display_dataframe_to_user(name=\"Food Price\n",
        "# Prediction Dataset\", dataframe=df)\n"
      ]
    },
    {
      "cell_type": "code",
      "execution_count": null,
      "metadata": {},
      "outputs": [],
      "source": []
    }
  ],
  "metadata": {
    "colab": {
      "provenance": []
    },
    "kernelspec": {
      "display_name": "Python 3",
      "name": "python3"
    },
    "language_info": {
      "codemirror_mode": {
        "name": "ipython",
        "version": 3
      },
      "file_extension": ".py",
      "mimetype": "text/x-python",
      "name": "python",
      "nbconvert_exporter": "python",
      "pygments_lexer": "ipython3",
      "version": "3.11.4"
    }
  },
  "nbformat": 4,
  "nbformat_minor": 0
}
